{
 "cells": [
  {
   "cell_type": "markdown",
   "metadata": {},
   "source": [
    "model/core.py"
   ]
  },
  {
   "cell_type": "code",
   "execution_count": 1,
   "metadata": {},
   "outputs": [],
   "source": [
    "import math\n",
    "import numpy as np\n",
    "import pandas as pd"
   ]
  },
  {
   "cell_type": "code",
   "execution_count": 2,
   "metadata": {},
   "outputs": [],
   "source": [
    "# replace(torchtable, ..custom_types)\n",
    "from torchtable import *"
   ]
  },
  {
   "cell_type": "code",
   "execution_count": 3,
   "metadata": {},
   "outputs": [],
   "source": [
    "from torchtable.utils import *\n",
    "from torchtable.field import Field, FieldCollection, CategoricalField, NumericField\n",
    "from torchtable.dataset import TabularDataset"
   ]
  },
  {
   "cell_type": "code",
   "execution_count": 4,
   "metadata": {},
   "outputs": [],
   "source": [
    "import torch\n",
    "import torch.nn as nn"
   ]
  },
  {
   "cell_type": "code",
   "execution_count": 15,
   "metadata": {},
   "outputs": [],
   "source": [
    "class BatchHandlerModel(nn.Module):\n",
    "    def __init__(self, embs: List[nn.Module],\n",
    "                 batch_cat_field_getters: List[Callable[[Dict], torch.tensor]],\n",
    "                 batch_num_field_getters: Callable[[Dict], torch.tensor]):\n",
    "        super().__init__()\n",
    "        assert len(embs) == len(batch_cat_field_getters)\n",
    "        self.embs = nn.ModuleList(embs)\n",
    "        self.batch_cat_field_getters = batch_cat_field_getters\n",
    "        self.batch_num_field_getters = batch_num_field_getters\n",
    "    \n",
    "    @staticmethod\n",
    "    def field_to_embedding(fld: CategoricalField) -> nn.Module:\n",
    "        num_embeddings = fld.cardinality\n",
    "        embedding_dim = with_default(fld.metadata.get(\"embedding_dim\"),\n",
    "                                      min((num_embeddings * (num_embeddings - 1)) // 2, 50))\n",
    "        return nn.Embedding(num_embeddings, embedding_dim, padding_idx=fld.metadata.get(\"padding_idx\"))\n",
    "    \n",
    "    @classmethod\n",
    "    def from_dataset(cls, dataset: TabularDataset) -> 'DefaultModel':\n",
    "        # construct mapping from example field to embedding matrix\n",
    "        embs = []\n",
    "        batch_cat_field_getters: List[Callable[[Dict], torch.tensor]] = []\n",
    "        batch_num_field_getters: List[Callable[[Dict], torch.tensor]] = []\n",
    "        def register_field(k: str, fld: Field, i: int):\n",
    "            getter = (lambda b: b[k][i]) if i > -1 else (lambda b: b[k])\n",
    "            if fld.categorical:\n",
    "                embs.append(cls.field_to_embedding(fld))\n",
    "                batch_cat_field_getters.append(getter)\n",
    "            elif fld.continuous:\n",
    "                batch_num_field_getters.append(getter)\n",
    "        list(dataset.fields.flatmap(register_field, with_index=True))\n",
    "        return cls(embs, batch_cat_field_getters, batch_num_field_getters)\n",
    "    \n",
    "    def forward(self, batch):\n",
    "        cat_data = [emb(getter(batch)) for emb, getter in zip(self.embs, self.batch_cat_field_getters)]\n",
    "        num_data = [getter(batch).unsqueeze(1) for getter in self.batch_num_field_getters]\n",
    "        return torch.cat(cat_data + num_data, dim=1)\n",
    "\n",
    "    def out_dim(self):\n",
    "        return sum(e.embedding_dim for e in self.embs) + len(self.batch_num_field_getters)"
   ]
  },
  {
   "cell_type": "code",
   "execution_count": null,
   "metadata": {},
   "outputs": [],
   "source": []
  },
  {
   "cell_type": "markdown",
   "metadata": {},
   "source": [
    "# Tests"
   ]
  },
  {
   "cell_type": "markdown",
   "metadata": {},
   "source": [
    "test_model.py"
   ]
  },
  {
   "cell_type": "code",
   "execution_count": 6,
   "metadata": {},
   "outputs": [],
   "source": [
    "import pytest\n",
    "import pandas as pd"
   ]
  },
  {
   "cell_type": "code",
   "execution_count": 7,
   "metadata": {},
   "outputs": [],
   "source": [
    "# ignore\n",
    "from torchtable.operator import LambdaOperator\n",
    "from torchtable.field import *\n",
    "from torchtable.dataset import TabularDataset\n",
    "from torchtable.loader import DefaultLoader"
   ]
  },
  {
   "cell_type": "code",
   "execution_count": 8,
   "metadata": {},
   "outputs": [],
   "source": [
    "# uncomment\n",
    "# from torchtable.utils import *\n",
    "# from torchtable.operator import LambdaOperator\n",
    "# from torchtable.field import Field, FieldCollection, CategoricalField, NumericField\n",
    "# from torchtable.dataset import TabularDataset\n",
    "# from torchtable.loader import DefaultLoader\n",
    "# from torchtable.model import BatchHandlerModel"
   ]
  },
  {
   "cell_type": "code",
   "execution_count": 8,
   "metadata": {},
   "outputs": [],
   "source": [
    "# test_from_dataset\n",
    "df = pd.DataFrame({\"a\": [1, 2, 3, 4, 5],\n",
    "                   \"b\": [-0.4, -2.1, 3.3, 4.4, 5.5]})\n",
    "ds = TabularDataset.from_df(df, fields={\n",
    "    \"a\": CategoricalField(max_features=100),\n",
    "    \"b\": NumericField(normalization=\"Gaussian\"),\n",
    "})\n",
    "dl = DefaultLoader.from_dataset(ds, 5)\n",
    "model = BatchHandlerModel.from_dataset(ds)\n",
    "batch, _ = next(iter(dl))\n",
    "assert model(batch).size(0) == 5"
   ]
  },
  {
   "cell_type": "code",
   "execution_count": 16,
   "metadata": {},
   "outputs": [],
   "source": [
    "# test_from_dataset_metadata\n",
    "df = pd.DataFrame({\"a\": [1, 2, 3, 4, 5],\n",
    "                   \"b\": [-0.4, -2.1, 3.3, 4.4, 5.5],\n",
    "                   \"c\": [0.1, 0.2, 0.3, 0.4, 0.5]})\n",
    "ds = TabularDataset.from_df(df, fields={\n",
    "    \"a\": CategoricalField(max_features=100, metadata={\"embedding_dim\": 10}),\n",
    "    \"b\": NumericField(normalization=\"Gaussian\"),\n",
    "    \"c\": NumericField(normalization=None),\n",
    "})\n",
    "dl = DefaultLoader.from_dataset(ds, 5)\n",
    "model = BatchHandlerModel.from_dataset(ds)\n",
    "batch, _ = next(iter(dl))\n",
    "assert model(batch).size(0) == 5\n",
    "assert model(batch).size(1) == 12\n",
    "assert model.out_dim() == 12"
   ]
  },
  {
   "cell_type": "code",
   "execution_count": 11,
   "metadata": {},
   "outputs": [],
   "source": [
    "# test_from_dataset_field_collection\n",
    "df = pd.DataFrame({\"a\": [1, 2, 3, 4, 5],\n",
    "                   \"b\": [-0.4, -2.1, 3.3, 4.4, 5.5]})\n",
    "ds = TabularDataset.from_df(df, fields={\n",
    "    \"a\": CategoricalField(max_features=100),\n",
    "    \"b\": FieldCollection(NumericField(normalization=\"Gaussian\"),\n",
    "                         Field(LambdaOperator(lambda x: x * 2), continuous=True),\n",
    "                         CategoricalField()),\n",
    "})\n",
    "dl = DefaultLoader.from_dataset(ds, 3)\n",
    "model = BatchHandlerModel.from_dataset(ds)\n",
    "assert len(model.embs) == 2\n",
    "batch, _ = next(iter(dl))\n",
    "assert model(batch).size(0) == 3"
   ]
  },
  {
   "cell_type": "code",
   "execution_count": 20,
   "metadata": {},
   "outputs": [],
   "source": [
    "# test_from_dataset_only_categorical\n",
    "df = pd.DataFrame({\"a\": [1, 2, 3, 4, 5],\n",
    "                   \"b\": [-0.4, -2.1, 3.3, 4.4, 5.5]})\n",
    "ds = TabularDataset.from_df(df, fields={\n",
    "    \"a\": CategoricalField(max_features=100),\n",
    "    \"b\": None,\n",
    "})\n",
    "dl = DefaultLoader.from_dataset(ds, 4)\n",
    "model = BatchHandlerModel.from_dataset(ds)\n",
    "batch, _ = next(iter(dl))\n",
    "assert model(batch).size(0) == 4\n",
    "assert model.out_dim() == 15"
   ]
  },
  {
   "cell_type": "code",
   "execution_count": 21,
   "metadata": {},
   "outputs": [],
   "source": [
    "# test_from_dataset_only_numerical\n",
    "df = pd.DataFrame({\"a\": [1, 2, 3, 4, 5],\n",
    "                   \"b\": [-0.4, -2.1, 3.3, 4.4, 5.5]})\n",
    "ds = TabularDataset.from_df(df, fields={\n",
    "    \"a\": NumericField(),\n",
    "    \"b\": FieldCollection(NumericField(), NumericField()),\n",
    "})\n",
    "dl = DefaultLoader.from_dataset(ds, 4)\n",
    "model = BatchHandlerModel.from_dataset(ds)\n",
    "batch, _ = next(iter(dl))\n",
    "assert model(batch).size(0) == 4\n",
    "assert model.out_dim() == 3"
   ]
  },
  {
   "cell_type": "code",
   "execution_count": 14,
   "metadata": {},
   "outputs": [],
   "source": [
    "# test_from_dataset_flattened\n",
    "df = pd.DataFrame({\"a\": [1, 2, 3, 4, 5],\n",
    "                   \"b\": [-0.4, -2.1, 3.3, 4.4, 5.5]})\n",
    "ds = TabularDataset.from_df(df, fields={\n",
    "    \"a\": NumericField(),\n",
    "    \"b\": FieldCollection(NumericField(), CategoricalField(handle_unk=False), flatten=True),\n",
    "})\n",
    "dl = DefaultLoader.from_dataset(ds, 4)\n",
    "model = BatchHandlerModel.from_dataset(ds)\n",
    "batch, _ = next(iter(dl))\n",
    "assert model(batch).size(0) == 4"
   ]
  },
  {
   "cell_type": "code",
   "execution_count": null,
   "metadata": {},
   "outputs": [],
   "source": []
  }
 ],
 "metadata": {
  "kernelspec": {
   "display_name": "Python 3",
   "language": "python",
   "name": "python3"
  },
  "language_info": {
   "codemirror_mode": {
    "name": "ipython",
    "version": 3
   },
   "file_extension": ".py",
   "mimetype": "text/x-python",
   "name": "python",
   "nbconvert_exporter": "python",
   "pygments_lexer": "ipython3",
   "version": "3.6.7"
  }
 },
 "nbformat": 4,
 "nbformat_minor": 2
}
